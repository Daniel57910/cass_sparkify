{
 "cells": [
  {
   "cell_type": "code",
   "execution_count": 2,
   "metadata": {},
   "outputs": [
    {
     "name": "stderr",
     "output_type": "stream",
     "text": [
      "/Users/danielwork/Documents/GitHub/cass_sparkify/venv_cass_sparkify/lib/python3.7/site-packages/cassandra/cqlengine/management.py:545: UserWarning: CQLENG_ALLOW_SCHEMA_MANAGEMENT environment variable is not set. Future versions of this package will require this variable to enable management functions.\n",
      "  warnings.warn(msg)\n"
     ]
    },
    {
     "name": "stdout",
     "output_type": "stream",
     "text": [
      "\n",
      "Result of song_play:\n",
      "Row(artist='Faithless', song='Music Matters (Mark Knight Dub)', length=495.30731201171875)\n",
      "\n",
      "Result of user_and_session:\n",
      "Row(artist='Three Drives', song='Kilometer', firstName='Sylvie', lastName='Cruz', sessionId=182)\n",
      "\n",
      "Result of user_and_song:\n",
      "Row(firstName='Sara', lastName='Lynch')\n"
     ]
    }
   ],
   "source": [
    "from create_aggregate_csv import create_aggregate_csv\n",
    "from database_handler import create_event_data_table, copy_event_datafile_into_db, execute_query\n",
    "from model.query import drop_statements, read_statements\n",
    "from lib.database_wrapper import DatabaseWrapper\n",
    "\n",
    "def print_the_response(header, response):\n",
    "  print('\\nResult of {}:'.format(header))\n",
    "  for row in response:\n",
    "    print(row)\n",
    "\n",
    "def main():\n",
    "\n",
    "    core_keyspace = \"CREATE KEYSPACE sparkifydb WITH REPLICATION = \" \n",
    "    keyspace_config = \"{ 'class': 'SimpleStrategy', 'replication_factor':  1 }\"\n",
    "        \n",
    "    database_wrapper = DatabaseWrapper()\n",
    "    database_wrapper.create_keyspace(core_keyspace, keyspace_config)\n",
    "\n",
    "    header = ['song_play', 'user_and_session', 'user_and_song']\n",
    "    \n",
    "    for drop_table in drop_statements:\n",
    "        execute_query(drop_table)\n",
    "\n",
    "    create_event_data_table()\n",
    "    create_aggregate_csv()\n",
    "    copy_event_datafile_into_db()\n",
    "    response = {}\n",
    "\n",
    "    for head in header:\n",
    "      response[head] = execute_query(read_statements[head])\n",
    "\n",
    "    for header in response:\n",
    "      print_the_response(header, response[header])\n",
    "\n",
    "if __name__ == \"__main__\":\n",
    "    main()\n"
   ]
  },
  {
   "cell_type": "code",
   "execution_count": null,
   "metadata": {},
   "outputs": [],
   "source": []
  }
 ],
 "metadata": {
  "kernelspec": {
   "display_name": "Python 3",
   "language": "python",
   "name": "python3"
  },
  "language_info": {
   "codemirror_mode": {
    "name": "ipython",
    "version": 3
   },
   "file_extension": ".py",
   "mimetype": "text/x-python",
   "name": "python",
   "nbconvert_exporter": "python",
   "pygments_lexer": "ipython3",
   "version": "3.7.3"
  }
 },
 "nbformat": 4,
 "nbformat_minor": 2
}
